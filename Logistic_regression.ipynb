{
  "nbformat": 4,
  "nbformat_minor": 0,
  "metadata": {
    "colab": {
      "provenance": []
    },
    "kernelspec": {
      "name": "python3",
      "display_name": "Python 3"
    },
    "language_info": {
      "name": "python"
    }
  },
  "cells": [
    {
      "cell_type": "code",
      "execution_count": null,
      "metadata": {
        "colab": {
          "base_uri": "https://localhost:8080/"
        },
        "id": "yZE32cPp1166",
        "outputId": "aec1f66e-ae5a-45fc-8777-5c5289b40c23"
      },
      "outputs": [
        {
          "output_type": "stream",
          "name": "stdout",
          "text": [
            "Drive already mounted at /content/gdrive; to attempt to forcibly remount, call drive.mount(\"/content/gdrive\", force_remount=True).\n",
            "   PassengerId Survived  Pclass                                         Name  \\\n",
            "0          343       No       2                   Collander, Mr. Erik Gustaf   \n",
            "1           76       No       3                      Moen, Mr. Sigurd Hansen   \n",
            "2          641       No       3                       Jensen, Mr. Hans Peder   \n",
            "3          568       No       3  Palsson, Mrs. Nils (Alma Cornelia Berglund)   \n",
            "4          672       No       1                       Davidson, Mr. Thornton   \n",
            "\n",
            "      Sex   Age  SibSp  Parch      Ticket     Fare  Cabin Embarked  \n",
            "0    male  28.0      0      0      248740  13.0000    NaN        S  \n",
            "1    male  25.0      0      0      348123   7.6500  F G73        S  \n",
            "2    male  20.0      0      0      350050   7.8542    NaN        S  \n",
            "3  female  29.0      0      4      349909  21.0750    NaN        S  \n",
            "4    male  31.0      1      0  F.C. 12750  52.0000    B71        S  \n",
            "PassengerId      0\n",
            "Survived         0\n",
            "Pclass           0\n",
            "Name             0\n",
            "Sex              0\n",
            "Age            177\n",
            "SibSp            0\n",
            "Parch            0\n",
            "Ticket           0\n",
            "Fare             0\n",
            "Cabin          687\n",
            "Embarked         2\n",
            "dtype: int64\n",
            "S    644\n",
            "C    168\n",
            "Q     77\n",
            "Name: Embarked, dtype: int64\n",
            "G6             4\n",
            "B96 B98        4\n",
            "C23 C25 C27    4\n",
            "F33            3\n",
            "D              3\n",
            "              ..\n",
            "C91            1\n",
            "D45            1\n",
            "F G63          1\n",
            "A34            1\n",
            "E63            1\n",
            "Name: Cabin, Length: 147, dtype: int64\n"
          ]
        }
      ],
      "source": [
        "import numpy as np\n",
        "import pandas as pd\n",
        "from google.colab import drive\n",
        "import matplotlib.pyplot as plt\n",
        "import seaborn as sns\n",
        "from sklearn.preprocessing import StandardScaler\n",
        "from sklearn.preprocessing import LabelEncoder\n",
        "from sklearn.linear_model import LogisticRegression # Logistic Regression\n",
        "from sklearn.model_selection import train_test_split #for split the data\n",
        "from sklearn.metrics import classification_report\n",
        "from sklearn.metrics import roc_curve\n",
        "from sklearn.metrics import roc_auc_score\n",
        "import matplotlib.pyplot as plt\n",
        "drive.mount('/content/gdrive')\n",
        "df=pd.read_csv(\"/content/gdrive/MyDrive/Gomycode/titanic-passengers.csv\",sep=\";\")\n",
        "\n",
        "\n",
        "# *****************************************************Data preparation************************************************************\n",
        "\n",
        "#df.info()\n",
        "print(df.head(5))\n",
        "#print(df.isnull().sum().sum())\n",
        "print(df.isnull().sum())\n",
        "df['Age'].fillna(df['Age'].mean(),inplace=True)\n",
        "#df[\"Embarked\"].fillna\n",
        "#print(df.head)\n",
        "print(df[\"Embarked\"].value_counts())\n",
        "print(df[\"Cabin\"].value_counts())\n",
        "df[\"Embarked\"].fillna(\"S\",inplace=True)\n",
        "df[\"Cabin\"].fillna(\"G6\",inplace=True)\n",
        "#df.isnull().sum()\n",
        "\n",
        "encoder=LabelEncoder()\n",
        "df['Survived']=encoder.fit_transform(df['Survived'])\n",
        "df['Sex']=encoder.fit_transform(df['Sex'])\n",
        "df['Cabin']=encoder.fit_transform(df['Cabin'])\n",
        "df['Embarked']=encoder.fit_transform(df['Embarked'])\n",
        "df['Ticket']=encoder.fit_transform(df['Ticket'])\n",
        "#df.info()\n",
        "def plot_correlation_map( df ):\n",
        "\n",
        "    corr = df.corr()\n",
        "\n",
        "    s , ax = plt.subplots( figsize =( 12 , 10 ) )\n",
        "\n",
        "    cmap = sns.diverging_palette( 220 , 10 , as_cmap = True )\n",
        "\n",
        "    s = sns.heatmap(\n",
        "\n",
        "        corr,\n",
        "\n",
        "        cmap = cmap,\n",
        "\n",
        "        square=True,\n",
        "\n",
        "        cbar_kws={ 'shrink' : .9 },\n",
        "\n",
        "        ax=ax,\n",
        "\n",
        "        annot = True,\n",
        "\n",
        "        annot_kws = { 'fontsize' : 12 }\n",
        "\n",
        "        )\n",
        "#plot_correlation_map(df)\n",
        "#print(df[\"Sex\"].value_counts())\n",
        "#print(df[\"Survived\"].value_counts())\n",
        "#print(df[[\"Pclass\",\"Survived\"]].groupby([\"Pclass\"],as_index=True).mean())\n",
        "#print(df[[\"Pclass\",\"Survived\"]].groupby([\"Survived\"],as_index=True).mean())\n",
        "X = df.drop([\"Survived\",\"PassengerId\",\"Name\",\"Ticket\"],axis=1)\n",
        "y = df[\"Survived\"]\n",
        "\n",
        "#print(X.head(4))\n"
      ]
    },
    {
      "cell_type": "code",
      "source": [
        "# *************************************************** Splitting and applying Logistic regression ************************************************************\n",
        "\n",
        "X_train, X_test, y_train, y_test = train_test_split(X, y, test_size = 0.3, random_state = 30)\n",
        "logmodel = LogisticRegression()\n",
        "logmodel.fit(X_train,y_train)\n",
        "predictions = logmodel.predict(X_test)\n",
        "print(\"Accuracy={:.2f}\".format(logmodel.score(X_test, y_test)))"
      ],
      "metadata": {
        "colab": {
          "base_uri": "https://localhost:8080/"
        },
        "id": "Hu35L3liqZed",
        "outputId": "0012a271-6e5a-4cc6-b433-f7459cd7334a"
      },
      "execution_count": null,
      "outputs": [
        {
          "output_type": "stream",
          "name": "stdout",
          "text": [
            "Accuracy=0.75\n"
          ]
        },
        {
          "output_type": "stream",
          "name": "stderr",
          "text": [
            "/usr/local/lib/python3.8/dist-packages/sklearn/linear_model/_logistic.py:814: ConvergenceWarning: lbfgs failed to converge (status=1):\n",
            "STOP: TOTAL NO. of ITERATIONS REACHED LIMIT.\n",
            "\n",
            "Increase the number of iterations (max_iter) or scale the data as shown in:\n",
            "    https://scikit-learn.org/stable/modules/preprocessing.html\n",
            "Please also refer to the documentation for alternative solver options:\n",
            "    https://scikit-learn.org/stable/modules/linear_model.html#logistic-regression\n",
            "  n_iter_i = _check_optimize_result(\n"
          ]
        }
      ]
    },
    {
      "cell_type": "code",
      "source": [
        "#****************************************** Confustion matrix *****************************************************************\n",
        "Confusion_matrix=pd.crosstab(y_test,predictions,rownames=['Actual'],colnames=['Predicted'])\n",
        "print(Confusion_matrix)\n",
        "print(sns.heatmap(Confusion_matrix,annot=True))\n",
        "\n",
        "print(classification_report(y_test, predictions))\n"
      ],
      "metadata": {
        "colab": {
          "base_uri": "https://localhost:8080/",
          "height": 529
        },
        "id": "POmVW4jTZzRT",
        "outputId": "3d400719-1b54-4692-c7c1-93d955226cd3"
      },
      "execution_count": null,
      "outputs": [
        {
          "output_type": "stream",
          "name": "stdout",
          "text": [
            "Predicted    0   1\n",
            "Actual            \n",
            "0          137  22\n",
            "1           44  65\n",
            "AxesSubplot(0.125,0.125;0.62x0.755)\n",
            "              precision    recall  f1-score   support\n",
            "\n",
            "           0       0.76      0.86      0.81       159\n",
            "           1       0.75      0.60      0.66       109\n",
            "\n",
            "    accuracy                           0.75       268\n",
            "   macro avg       0.75      0.73      0.73       268\n",
            "weighted avg       0.75      0.75      0.75       268\n",
            "\n"
          ]
        },
        {
          "output_type": "display_data",
          "data": {
            "text/plain": [
              "<Figure size 432x288 with 2 Axes>"
            ],
            "image/png": "[encoded data removed]"
          },
          "metadata": {
            "needs_background": "light"
          }
        }
      ]
    },
    {
      "cell_type": "code",
      "source": [
        " pred_prob = logmodel.predict_proba(X_test)\n",
        "probs = pred_prob[:, 1]\n",
        "\n",
        "auc = roc_auc_score(y_test, probs)\n",
        "print('AUC Score: %.2f' % auc)\n",
        "\n",
        "\n",
        "fpr, tpr, thresholds = roc_curve(y_test, probs)\n",
        "plt.plot(fpr, tpr, color='orange', label='ROC')\n",
        "plt.plot([0, 1], [0, 1], color='darkblue', linestyle='--')\n",
        "plt.xlabel('False Positive Rate')\n",
        "plt.ylabel('True Positive Rate')\n",
        "plt.title('Receiver Operating Characteristic (ROC) Curve')\n",
        "plt.legend()\n",
        "plt.show()\n",
        "\n",
        "\n",
        "#Explication:\n",
        "#La courbe ROC  est une visualisation du taux de faux positifs et du taux de vrais positifs.\n",
        "# elle calcule la surface (area)"
      ],
      "metadata": {
        "id": "htIA7qRqFN03"
      },
      "execution_count": null,
      "outputs": []
    }
  ]
}